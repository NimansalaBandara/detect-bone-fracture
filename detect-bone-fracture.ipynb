{
 "cells": [
  {
   "cell_type": "code",
   "execution_count": 3,
   "metadata": {
    "_cell_guid": "b1076dfc-b9ad-4769-8c92-a6c4dae69d19",
    "_uuid": "8f2839f25d086af736a60e9eeb907d3b93b6e0e5",
    "execution": {
     "iopub.execute_input": "2025-09-08T05:43:09.521293Z",
     "iopub.status.busy": "2025-09-08T05:43:09.520729Z",
     "iopub.status.idle": "2025-09-08T05:43:09.951125Z",
     "shell.execute_reply": "2025-09-08T05:43:09.950161Z",
     "shell.execute_reply.started": "2025-09-08T05:43:09.521272Z"
    },
    "trusted": true
   },
   "outputs": [],
   "source": [
    "import os\n",
    "import numpy as np\n",
    "import pandas as pd\n",
    "import matplotlib.pyplot as plt\n",
    "import cv2"
   ]
  },
  {
   "cell_type": "markdown",
   "metadata": {},
   "source": [
    "## Define dataset and paths"
   ]
  },
  {
   "cell_type": "markdown",
   "metadata": {},
   "source": [
    "The dataset used in this project consists of X-ray images categorized into two classes: fractured and non-fractured bones. The data is organized into separate folders for training, validation, and testing, which ensures a proper evaluation of the model’s performance. I created lists of image paths for both categories by iterating through these directories. This structured approach allowed me to easily preprocess the data and feed it into the CNN model for classification."
   ]
  },
  {
   "cell_type": "code",
   "execution_count": 5,
   "metadata": {
    "execution": {
     "iopub.execute_input": "2025-09-08T05:43:26.967435Z",
     "iopub.status.busy": "2025-09-08T05:43:26.966693Z",
     "iopub.status.idle": "2025-09-08T05:43:27.269787Z",
     "shell.execute_reply": "2025-09-08T05:43:27.269160Z",
     "shell.execute_reply.started": "2025-09-08T05:43:26.967403Z"
    },
    "trusted": true
   },
   "outputs": [],
   "source": [
    "fracture_data_path = []\n",
    "non_fracture_data_path = []\n",
    "\n",
    "data_dir = \"/kaggle/input/fracture-multi-region-x-ray-data/Bone_Fracture_Binary_Classification/Bone_Fracture_Binary_Classification\"\n",
    "\n",
    "train_path = data_dir + '/' + \"train\" \n",
    "test_path = data_dir + '/' + \"test\" \n",
    "val_path = data_dir + '/' + \"val\"\n",
    "\n",
    "for i in os.listdir(train_path):\n",
    "    img_path = train_path + '/' + i\n",
    "\n",
    "    for img in os.listdir(img_path):\n",
    "        if i==\"fractured\":\n",
    "            fracture_data_path.append(img_path + '/' + img)\n",
    "        else:\n",
    "            non_fracture_data_path.append(img_path + '/' + img)\n",
    "\n",
    "\n",
    "for i in os.listdir(test_path):\n",
    "    img_path = test_path + '/' + i\n",
    "\n",
    "    for img in os.listdir(img_path):\n",
    "        if i==\"fractured\":\n",
    "            fracture_data_path.append(img_path + '/' + img)\n",
    "        else:\n",
    "            non_fracture_data_path.append(img_path + '/' + img)\n",
    "\n",
    "for i in os.listdir(val_path):\n",
    "    img_path = val_path + '/' + i\n",
    "\n",
    "    for img in os.listdir(img_path):\n",
    "        if i==\"fractured\":\n",
    "            fracture_data_path.append(img_path + '/' + img)\n",
    "        else:\n",
    "            non_fracture_data_path.append(img_path + '/' + img)"
   ]
  },
  {
   "cell_type": "code",
   "execution_count": 6,
   "metadata": {
    "execution": {
     "iopub.execute_input": "2025-09-08T05:43:29.381389Z",
     "iopub.status.busy": "2025-09-08T05:43:29.381135Z",
     "iopub.status.idle": "2025-09-08T05:43:29.386497Z",
     "shell.execute_reply": "2025-09-08T05:43:29.385899Z",
     "shell.execute_reply.started": "2025-09-08T05:43:29.381369Z"
    },
    "trusted": true
   },
   "outputs": [
    {
     "data": {
      "text/plain": [
       "(5181, 5400)"
      ]
     },
     "execution_count": 6,
     "metadata": {},
     "output_type": "execute_result"
    }
   ],
   "source": [
    "len(fracture_data_path), len(non_fracture_data_path)"
   ]
  },
  {
   "cell_type": "markdown",
   "metadata": {},
   "source": [
    "## Add labels and create a dataframe "
   ]
  },
  {
   "cell_type": "code",
   "execution_count": 7,
   "metadata": {
    "execution": {
     "iopub.execute_input": "2025-09-08T05:43:32.921186Z",
     "iopub.status.busy": "2025-09-08T05:43:32.920926Z",
     "iopub.status.idle": "2025-09-08T05:43:32.924975Z",
     "shell.execute_reply": "2025-09-08T05:43:32.924171Z",
     "shell.execute_reply.started": "2025-09-08T05:43:32.921167Z"
    },
    "trusted": true
   },
   "outputs": [],
   "source": [
    "fracture_label = [1]*5181\n",
    "non_fracture_label = [0]*5400"
   ]
  },
  {
   "cell_type": "code",
   "execution_count": 8,
   "metadata": {
    "execution": {
     "iopub.execute_input": "2025-09-08T05:43:33.721622Z",
     "iopub.status.busy": "2025-09-08T05:43:33.721122Z",
     "iopub.status.idle": "2025-09-08T05:43:33.752583Z",
     "shell.execute_reply": "2025-09-08T05:43:33.751905Z",
     "shell.execute_reply.started": "2025-09-08T05:43:33.721600Z"
    },
    "trusted": true
   },
   "outputs": [
    {
     "data": {
      "text/html": [
       "<div>\n",
       "<style scoped>\n",
       "    .dataframe tbody tr th:only-of-type {\n",
       "        vertical-align: middle;\n",
       "    }\n",
       "\n",
       "    .dataframe tbody tr th {\n",
       "        vertical-align: top;\n",
       "    }\n",
       "\n",
       "    .dataframe thead th {\n",
       "        text-align: right;\n",
       "    }\n",
       "</style>\n",
       "<table border=\"1\" class=\"dataframe\">\n",
       "  <thead>\n",
       "    <tr style=\"text-align: right;\">\n",
       "      <th></th>\n",
       "      <th>img_path</th>\n",
       "      <th>label</th>\n",
       "    </tr>\n",
       "  </thead>\n",
       "  <tbody>\n",
       "    <tr>\n",
       "      <th>0</th>\n",
       "      <td>/kaggle/input/fracture-multi-region-x-ray-data...</td>\n",
       "      <td>1</td>\n",
       "    </tr>\n",
       "    <tr>\n",
       "      <th>1</th>\n",
       "      <td>/kaggle/input/fracture-multi-region-x-ray-data...</td>\n",
       "      <td>1</td>\n",
       "    </tr>\n",
       "    <tr>\n",
       "      <th>2</th>\n",
       "      <td>/kaggle/input/fracture-multi-region-x-ray-data...</td>\n",
       "      <td>1</td>\n",
       "    </tr>\n",
       "    <tr>\n",
       "      <th>3</th>\n",
       "      <td>/kaggle/input/fracture-multi-region-x-ray-data...</td>\n",
       "      <td>1</td>\n",
       "    </tr>\n",
       "    <tr>\n",
       "      <th>4</th>\n",
       "      <td>/kaggle/input/fracture-multi-region-x-ray-data...</td>\n",
       "      <td>1</td>\n",
       "    </tr>\n",
       "    <tr>\n",
       "      <th>...</th>\n",
       "      <td>...</td>\n",
       "      <td>...</td>\n",
       "    </tr>\n",
       "    <tr>\n",
       "      <th>5176</th>\n",
       "      <td>/kaggle/input/fracture-multi-region-x-ray-data...</td>\n",
       "      <td>1</td>\n",
       "    </tr>\n",
       "    <tr>\n",
       "      <th>5177</th>\n",
       "      <td>/kaggle/input/fracture-multi-region-x-ray-data...</td>\n",
       "      <td>1</td>\n",
       "    </tr>\n",
       "    <tr>\n",
       "      <th>5178</th>\n",
       "      <td>/kaggle/input/fracture-multi-region-x-ray-data...</td>\n",
       "      <td>1</td>\n",
       "    </tr>\n",
       "    <tr>\n",
       "      <th>5179</th>\n",
       "      <td>/kaggle/input/fracture-multi-region-x-ray-data...</td>\n",
       "      <td>1</td>\n",
       "    </tr>\n",
       "    <tr>\n",
       "      <th>5180</th>\n",
       "      <td>/kaggle/input/fracture-multi-region-x-ray-data...</td>\n",
       "      <td>1</td>\n",
       "    </tr>\n",
       "  </tbody>\n",
       "</table>\n",
       "<p>5181 rows × 2 columns</p>\n",
       "</div>"
      ],
      "text/plain": [
       "                                               img_path  label\n",
       "0     /kaggle/input/fracture-multi-region-x-ray-data...      1\n",
       "1     /kaggle/input/fracture-multi-region-x-ray-data...      1\n",
       "2     /kaggle/input/fracture-multi-region-x-ray-data...      1\n",
       "3     /kaggle/input/fracture-multi-region-x-ray-data...      1\n",
       "4     /kaggle/input/fracture-multi-region-x-ray-data...      1\n",
       "...                                                 ...    ...\n",
       "5176  /kaggle/input/fracture-multi-region-x-ray-data...      1\n",
       "5177  /kaggle/input/fracture-multi-region-x-ray-data...      1\n",
       "5178  /kaggle/input/fracture-multi-region-x-ray-data...      1\n",
       "5179  /kaggle/input/fracture-multi-region-x-ray-data...      1\n",
       "5180  /kaggle/input/fracture-multi-region-x-ray-data...      1\n",
       "\n",
       "[5181 rows x 2 columns]"
      ]
     },
     "execution_count": 8,
     "metadata": {},
     "output_type": "execute_result"
    }
   ],
   "source": [
    "fracture_df = pd.DataFrame({\n",
    "    \"img_path\": fracture_data_path,\n",
    "    \"label\": fracture_label\n",
    "})\n",
    "\n",
    "fracture_df"
   ]
  },
  {
   "cell_type": "code",
   "execution_count": 9,
   "metadata": {
    "execution": {
     "iopub.execute_input": "2025-09-08T05:43:50.722132Z",
     "iopub.status.busy": "2025-09-08T05:43:50.721378Z",
     "iopub.status.idle": "2025-09-08T05:43:50.732913Z",
     "shell.execute_reply": "2025-09-08T05:43:50.732080Z",
     "shell.execute_reply.started": "2025-09-08T05:43:50.722108Z"
    },
    "trusted": true
   },
   "outputs": [
    {
     "data": {
      "text/html": [
       "<div>\n",
       "<style scoped>\n",
       "    .dataframe tbody tr th:only-of-type {\n",
       "        vertical-align: middle;\n",
       "    }\n",
       "\n",
       "    .dataframe tbody tr th {\n",
       "        vertical-align: top;\n",
       "    }\n",
       "\n",
       "    .dataframe thead th {\n",
       "        text-align: right;\n",
       "    }\n",
       "</style>\n",
       "<table border=\"1\" class=\"dataframe\">\n",
       "  <thead>\n",
       "    <tr style=\"text-align: right;\">\n",
       "      <th></th>\n",
       "      <th>img_path</th>\n",
       "      <th>label</th>\n",
       "    </tr>\n",
       "  </thead>\n",
       "  <tbody>\n",
       "    <tr>\n",
       "      <th>0</th>\n",
       "      <td>/kaggle/input/fracture-multi-region-x-ray-data...</td>\n",
       "      <td>0</td>\n",
       "    </tr>\n",
       "    <tr>\n",
       "      <th>1</th>\n",
       "      <td>/kaggle/input/fracture-multi-region-x-ray-data...</td>\n",
       "      <td>0</td>\n",
       "    </tr>\n",
       "    <tr>\n",
       "      <th>2</th>\n",
       "      <td>/kaggle/input/fracture-multi-region-x-ray-data...</td>\n",
       "      <td>0</td>\n",
       "    </tr>\n",
       "    <tr>\n",
       "      <th>3</th>\n",
       "      <td>/kaggle/input/fracture-multi-region-x-ray-data...</td>\n",
       "      <td>0</td>\n",
       "    </tr>\n",
       "    <tr>\n",
       "      <th>4</th>\n",
       "      <td>/kaggle/input/fracture-multi-region-x-ray-data...</td>\n",
       "      <td>0</td>\n",
       "    </tr>\n",
       "    <tr>\n",
       "      <th>...</th>\n",
       "      <td>...</td>\n",
       "      <td>...</td>\n",
       "    </tr>\n",
       "    <tr>\n",
       "      <th>5395</th>\n",
       "      <td>/kaggle/input/fracture-multi-region-x-ray-data...</td>\n",
       "      <td>0</td>\n",
       "    </tr>\n",
       "    <tr>\n",
       "      <th>5396</th>\n",
       "      <td>/kaggle/input/fracture-multi-region-x-ray-data...</td>\n",
       "      <td>0</td>\n",
       "    </tr>\n",
       "    <tr>\n",
       "      <th>5397</th>\n",
       "      <td>/kaggle/input/fracture-multi-region-x-ray-data...</td>\n",
       "      <td>0</td>\n",
       "    </tr>\n",
       "    <tr>\n",
       "      <th>5398</th>\n",
       "      <td>/kaggle/input/fracture-multi-region-x-ray-data...</td>\n",
       "      <td>0</td>\n",
       "    </tr>\n",
       "    <tr>\n",
       "      <th>5399</th>\n",
       "      <td>/kaggle/input/fracture-multi-region-x-ray-data...</td>\n",
       "      <td>0</td>\n",
       "    </tr>\n",
       "  </tbody>\n",
       "</table>\n",
       "<p>5400 rows × 2 columns</p>\n",
       "</div>"
      ],
      "text/plain": [
       "                                               img_path  label\n",
       "0     /kaggle/input/fracture-multi-region-x-ray-data...      0\n",
       "1     /kaggle/input/fracture-multi-region-x-ray-data...      0\n",
       "2     /kaggle/input/fracture-multi-region-x-ray-data...      0\n",
       "3     /kaggle/input/fracture-multi-region-x-ray-data...      0\n",
       "4     /kaggle/input/fracture-multi-region-x-ray-data...      0\n",
       "...                                                 ...    ...\n",
       "5395  /kaggle/input/fracture-multi-region-x-ray-data...      0\n",
       "5396  /kaggle/input/fracture-multi-region-x-ray-data...      0\n",
       "5397  /kaggle/input/fracture-multi-region-x-ray-data...      0\n",
       "5398  /kaggle/input/fracture-multi-region-x-ray-data...      0\n",
       "5399  /kaggle/input/fracture-multi-region-x-ray-data...      0\n",
       "\n",
       "[5400 rows x 2 columns]"
      ]
     },
     "execution_count": 9,
     "metadata": {},
     "output_type": "execute_result"
    }
   ],
   "source": [
    "non_fracture_df = pd.DataFrame({\n",
    "    \"img_path\": non_fracture_data_path,\n",
    "    \"label\": non_fracture_label\n",
    "})\n",
    "\n",
    "non_fracture_df"
   ]
  },
  {
   "cell_type": "code",
   "execution_count": 10,
   "metadata": {
    "execution": {
     "iopub.execute_input": "2025-09-08T05:44:04.140976Z",
     "iopub.status.busy": "2025-09-08T05:44:04.140446Z",
     "iopub.status.idle": "2025-09-08T05:44:04.151003Z",
     "shell.execute_reply": "2025-09-08T05:44:04.150364Z",
     "shell.execute_reply.started": "2025-09-08T05:44:04.140951Z"
    },
    "trusted": true
   },
   "outputs": [
    {
     "data": {
      "text/html": [
       "<div>\n",
       "<style scoped>\n",
       "    .dataframe tbody tr th:only-of-type {\n",
       "        vertical-align: middle;\n",
       "    }\n",
       "\n",
       "    .dataframe tbody tr th {\n",
       "        vertical-align: top;\n",
       "    }\n",
       "\n",
       "    .dataframe thead th {\n",
       "        text-align: right;\n",
       "    }\n",
       "</style>\n",
       "<table border=\"1\" class=\"dataframe\">\n",
       "  <thead>\n",
       "    <tr style=\"text-align: right;\">\n",
       "      <th></th>\n",
       "      <th>img_path</th>\n",
       "      <th>label</th>\n",
       "    </tr>\n",
       "  </thead>\n",
       "  <tbody>\n",
       "    <tr>\n",
       "      <th>0</th>\n",
       "      <td>/kaggle/input/fracture-multi-region-x-ray-data...</td>\n",
       "      <td>1</td>\n",
       "    </tr>\n",
       "    <tr>\n",
       "      <th>1</th>\n",
       "      <td>/kaggle/input/fracture-multi-region-x-ray-data...</td>\n",
       "      <td>1</td>\n",
       "    </tr>\n",
       "    <tr>\n",
       "      <th>2</th>\n",
       "      <td>/kaggle/input/fracture-multi-region-x-ray-data...</td>\n",
       "      <td>1</td>\n",
       "    </tr>\n",
       "    <tr>\n",
       "      <th>3</th>\n",
       "      <td>/kaggle/input/fracture-multi-region-x-ray-data...</td>\n",
       "      <td>1</td>\n",
       "    </tr>\n",
       "    <tr>\n",
       "      <th>4</th>\n",
       "      <td>/kaggle/input/fracture-multi-region-x-ray-data...</td>\n",
       "      <td>1</td>\n",
       "    </tr>\n",
       "    <tr>\n",
       "      <th>...</th>\n",
       "      <td>...</td>\n",
       "      <td>...</td>\n",
       "    </tr>\n",
       "    <tr>\n",
       "      <th>10576</th>\n",
       "      <td>/kaggle/input/fracture-multi-region-x-ray-data...</td>\n",
       "      <td>0</td>\n",
       "    </tr>\n",
       "    <tr>\n",
       "      <th>10577</th>\n",
       "      <td>/kaggle/input/fracture-multi-region-x-ray-data...</td>\n",
       "      <td>0</td>\n",
       "    </tr>\n",
       "    <tr>\n",
       "      <th>10578</th>\n",
       "      <td>/kaggle/input/fracture-multi-region-x-ray-data...</td>\n",
       "      <td>0</td>\n",
       "    </tr>\n",
       "    <tr>\n",
       "      <th>10579</th>\n",
       "      <td>/kaggle/input/fracture-multi-region-x-ray-data...</td>\n",
       "      <td>0</td>\n",
       "    </tr>\n",
       "    <tr>\n",
       "      <th>10580</th>\n",
       "      <td>/kaggle/input/fracture-multi-region-x-ray-data...</td>\n",
       "      <td>0</td>\n",
       "    </tr>\n",
       "  </tbody>\n",
       "</table>\n",
       "<p>10581 rows × 2 columns</p>\n",
       "</div>"
      ],
      "text/plain": [
       "                                                img_path  label\n",
       "0      /kaggle/input/fracture-multi-region-x-ray-data...      1\n",
       "1      /kaggle/input/fracture-multi-region-x-ray-data...      1\n",
       "2      /kaggle/input/fracture-multi-region-x-ray-data...      1\n",
       "3      /kaggle/input/fracture-multi-region-x-ray-data...      1\n",
       "4      /kaggle/input/fracture-multi-region-x-ray-data...      1\n",
       "...                                                  ...    ...\n",
       "10576  /kaggle/input/fracture-multi-region-x-ray-data...      0\n",
       "10577  /kaggle/input/fracture-multi-region-x-ray-data...      0\n",
       "10578  /kaggle/input/fracture-multi-region-x-ray-data...      0\n",
       "10579  /kaggle/input/fracture-multi-region-x-ray-data...      0\n",
       "10580  /kaggle/input/fracture-multi-region-x-ray-data...      0\n",
       "\n",
       "[10581 rows x 2 columns]"
      ]
     },
     "execution_count": 10,
     "metadata": {},
     "output_type": "execute_result"
    }
   ],
   "source": [
    "final_df = pd.concat([fracture_df, non_fracture_df], ignore_index=True)\n",
    "final_df"
   ]
  },
  {
   "cell_type": "code",
   "execution_count": 11,
   "metadata": {
    "execution": {
     "iopub.execute_input": "2025-09-08T05:44:13.447078Z",
     "iopub.status.busy": "2025-09-08T05:44:13.446190Z",
     "iopub.status.idle": "2025-09-08T05:44:13.457222Z",
     "shell.execute_reply": "2025-09-08T05:44:13.456607Z",
     "shell.execute_reply.started": "2025-09-08T05:44:13.447050Z"
    },
    "trusted": true
   },
   "outputs": [
    {
     "data": {
      "text/html": [
       "<div>\n",
       "<style scoped>\n",
       "    .dataframe tbody tr th:only-of-type {\n",
       "        vertical-align: middle;\n",
       "    }\n",
       "\n",
       "    .dataframe tbody tr th {\n",
       "        vertical-align: top;\n",
       "    }\n",
       "\n",
       "    .dataframe thead th {\n",
       "        text-align: right;\n",
       "    }\n",
       "</style>\n",
       "<table border=\"1\" class=\"dataframe\">\n",
       "  <thead>\n",
       "    <tr style=\"text-align: right;\">\n",
       "      <th></th>\n",
       "      <th>img_path</th>\n",
       "      <th>label</th>\n",
       "    </tr>\n",
       "  </thead>\n",
       "  <tbody>\n",
       "    <tr>\n",
       "      <th>0</th>\n",
       "      <td>/kaggle/input/fracture-multi-region-x-ray-data...</td>\n",
       "      <td>0</td>\n",
       "    </tr>\n",
       "    <tr>\n",
       "      <th>1</th>\n",
       "      <td>/kaggle/input/fracture-multi-region-x-ray-data...</td>\n",
       "      <td>0</td>\n",
       "    </tr>\n",
       "    <tr>\n",
       "      <th>2</th>\n",
       "      <td>/kaggle/input/fracture-multi-region-x-ray-data...</td>\n",
       "      <td>0</td>\n",
       "    </tr>\n",
       "    <tr>\n",
       "      <th>3</th>\n",
       "      <td>/kaggle/input/fracture-multi-region-x-ray-data...</td>\n",
       "      <td>0</td>\n",
       "    </tr>\n",
       "    <tr>\n",
       "      <th>4</th>\n",
       "      <td>/kaggle/input/fracture-multi-region-x-ray-data...</td>\n",
       "      <td>1</td>\n",
       "    </tr>\n",
       "    <tr>\n",
       "      <th>...</th>\n",
       "      <td>...</td>\n",
       "      <td>...</td>\n",
       "    </tr>\n",
       "    <tr>\n",
       "      <th>10576</th>\n",
       "      <td>/kaggle/input/fracture-multi-region-x-ray-data...</td>\n",
       "      <td>0</td>\n",
       "    </tr>\n",
       "    <tr>\n",
       "      <th>10577</th>\n",
       "      <td>/kaggle/input/fracture-multi-region-x-ray-data...</td>\n",
       "      <td>0</td>\n",
       "    </tr>\n",
       "    <tr>\n",
       "      <th>10578</th>\n",
       "      <td>/kaggle/input/fracture-multi-region-x-ray-data...</td>\n",
       "      <td>0</td>\n",
       "    </tr>\n",
       "    <tr>\n",
       "      <th>10579</th>\n",
       "      <td>/kaggle/input/fracture-multi-region-x-ray-data...</td>\n",
       "      <td>1</td>\n",
       "    </tr>\n",
       "    <tr>\n",
       "      <th>10580</th>\n",
       "      <td>/kaggle/input/fracture-multi-region-x-ray-data...</td>\n",
       "      <td>0</td>\n",
       "    </tr>\n",
       "  </tbody>\n",
       "</table>\n",
       "<p>10581 rows × 2 columns</p>\n",
       "</div>"
      ],
      "text/plain": [
       "                                                img_path  label\n",
       "0      /kaggle/input/fracture-multi-region-x-ray-data...      0\n",
       "1      /kaggle/input/fracture-multi-region-x-ray-data...      0\n",
       "2      /kaggle/input/fracture-multi-region-x-ray-data...      0\n",
       "3      /kaggle/input/fracture-multi-region-x-ray-data...      0\n",
       "4      /kaggle/input/fracture-multi-region-x-ray-data...      1\n",
       "...                                                  ...    ...\n",
       "10576  /kaggle/input/fracture-multi-region-x-ray-data...      0\n",
       "10577  /kaggle/input/fracture-multi-region-x-ray-data...      0\n",
       "10578  /kaggle/input/fracture-multi-region-x-ray-data...      0\n",
       "10579  /kaggle/input/fracture-multi-region-x-ray-data...      1\n",
       "10580  /kaggle/input/fracture-multi-region-x-ray-data...      0\n",
       "\n",
       "[10581 rows x 2 columns]"
      ]
     },
     "execution_count": 11,
     "metadata": {},
     "output_type": "execute_result"
    }
   ],
   "source": [
    "final_df = final_df.sample(frac=1, random_state=42).reset_index(drop=True)\n",
    "final_df"
   ]
  },
  {
   "cell_type": "markdown",
   "metadata": {},
   "source": [
    "## Image preprocessing"
   ]
  },
  {
   "cell_type": "markdown",
   "metadata": {},
   "source": [
    "Before training the CNN, the images were preprocessed to ensure uniformity. Each X-ray image was read in grayscale and resized to 128×128 pixels to reduce computational complexity while preserving important features. Any invalid or unreadable images were removed from the dataset. The processed images were then stored along with their corresponding labels, creating structured input (X) and output (y) arrays ready for training the model."
   ]
  },
  {
   "cell_type": "code",
   "execution_count": 12,
   "metadata": {
    "execution": {
     "iopub.execute_input": "2025-09-08T05:47:20.811231Z",
     "iopub.status.busy": "2025-09-08T05:47:20.810947Z",
     "iopub.status.idle": "2025-09-08T05:48:51.699236Z",
     "shell.execute_reply": "2025-09-08T05:48:51.698665Z",
     "shell.execute_reply.started": "2025-09-08T05:47:20.811210Z"
    },
    "trusted": true
   },
   "outputs": [
    {
     "name": "stderr",
     "output_type": "stream",
     "text": [
      "Premature end of JPEG file\n",
      "Premature end of JPEG file\n",
      "Premature end of JPEG file\n",
      "libpng warning: iCCP: profile 'ICC Profile': 0h: PCS illuminant is not D50\n",
      "Premature end of JPEG file\n",
      "libpng warning: iCCP: known incorrect sRGB profile\n",
      "Premature end of JPEG file\n",
      "libpng warning: bKGD: invalid\n",
      "Premature end of JPEG file\n",
      "Premature end of JPEG file\n",
      "libpng warning: iCCP: known incorrect sRGB profile\n",
      "Premature end of JPEG file\n",
      "Premature end of JPEG file\n",
      "libpng warning: iCCP: known incorrect sRGB profile\n",
      "Premature end of JPEG file\n",
      "Premature end of JPEG file\n",
      "Premature end of JPEG file\n",
      "Premature end of JPEG file\n",
      "Premature end of JPEG file\n",
      "Premature end of JPEG file\n",
      "Premature end of JPEG file\n",
      "libpng warning: iCCP: profile 'ICC Profile': 0h: PCS illuminant is not D50\n",
      "libpng warning: bKGD: invalid\n",
      "Premature end of JPEG file\n",
      "Premature end of JPEG file\n",
      "libpng warning: bKGD: invalid\n"
     ]
    }
   ],
   "source": [
    "def preprocess_row(row):\n",
    "\n",
    "    img_path = row['img_path']\n",
    "    label = row['label']\n",
    "\n",
    "    image = cv2.imread(img_path, cv2.IMREAD_GRAYSCALE)\n",
    "\n",
    "    if image is not None:\n",
    "        image = cv2.resize(image, (128, 128))\n",
    "        return pd.Series([image, label])\n",
    "    else:\n",
    "        return pd.Series([None, None])\n",
    "\n",
    "final_df[['processed_img', 'processed_label']] = final_df.apply(preprocess_row, axis=1)\n",
    "\n",
    "final_df = final_df.dropna(subset=['processed_img']).reset_index(drop=True)\n",
    "\n",
    "X = final_df['processed_img'].tolist()\n",
    "y = final_df['processed_label'].tolist()"
   ]
  },
  {
   "cell_type": "code",
   "execution_count": 13,
   "metadata": {
    "execution": {
     "iopub.execute_input": "2025-09-08T05:49:40.711406Z",
     "iopub.status.busy": "2025-09-08T05:49:40.710848Z",
     "iopub.status.idle": "2025-09-08T05:49:40.774265Z",
     "shell.execute_reply": "2025-09-08T05:49:40.773696Z",
     "shell.execute_reply.started": "2025-09-08T05:49:40.711385Z"
    },
    "trusted": true
   },
   "outputs": [
    {
     "data": {
      "text/plain": [
       "(10578, 128, 128)"
      ]
     },
     "execution_count": 13,
     "metadata": {},
     "output_type": "execute_result"
    }
   ],
   "source": [
    "X = np.array(X)\n",
    "X.shape"
   ]
  },
  {
   "cell_type": "code",
   "execution_count": 14,
   "metadata": {
    "execution": {
     "iopub.execute_input": "2025-09-08T05:49:49.459657Z",
     "iopub.status.busy": "2025-09-08T05:49:49.459094Z",
     "iopub.status.idle": "2025-09-08T05:49:49.464068Z",
     "shell.execute_reply": "2025-09-08T05:49:49.463408Z",
     "shell.execute_reply.started": "2025-09-08T05:49:49.459620Z"
    },
    "trusted": true
   },
   "outputs": [
    {
     "data": {
      "text/plain": [
       "(128, 128)"
      ]
     },
     "execution_count": 14,
     "metadata": {},
     "output_type": "execute_result"
    }
   ],
   "source": [
    "X[0].shape"
   ]
  },
  {
   "cell_type": "code",
   "execution_count": 15,
   "metadata": {
    "execution": {
     "iopub.execute_input": "2025-09-08T05:49:57.001530Z",
     "iopub.status.busy": "2025-09-08T05:49:57.001238Z",
     "iopub.status.idle": "2025-09-08T05:49:57.007211Z",
     "shell.execute_reply": "2025-09-08T05:49:57.006632Z",
     "shell.execute_reply.started": "2025-09-08T05:49:57.001508Z"
    },
    "trusted": true
   },
   "outputs": [
    {
     "data": {
      "text/plain": [
       "(10578,)"
      ]
     },
     "execution_count": 15,
     "metadata": {},
     "output_type": "execute_result"
    }
   ],
   "source": [
    "y = np.array(y)\n",
    "y.shape"
   ]
  },
  {
   "cell_type": "markdown",
   "metadata": {},
   "source": [
    "## Split the dataset"
   ]
  },
  {
   "cell_type": "markdown",
   "metadata": {},
   "source": [
    "To evaluate the model effectively, the dataset was split into training, validation, and test sets. First, 10% of the data was set aside for validation, and then 10% of the remaining data was used for testing. This ensures that the model is trained on the majority of the data while still providing separate datasets to tune hyperparameters and evaluate performance on unseen images."
   ]
  },
  {
   "cell_type": "code",
   "execution_count": 35,
   "metadata": {
    "execution": {
     "iopub.execute_input": "2025-09-08T06:22:17.607171Z",
     "iopub.status.busy": "2025-09-08T06:22:17.606526Z",
     "iopub.status.idle": "2025-09-08T06:22:17.706747Z",
     "shell.execute_reply": "2025-09-08T06:22:17.706156Z",
     "shell.execute_reply.started": "2025-09-08T06:22:17.607148Z"
    },
    "trusted": true
   },
   "outputs": [],
   "source": [
    "from sklearn.model_selection import train_test_split\n",
    "\n",
    "X_temp, X_val, y_temp, y_val = train_test_split(X, y, test_size=0.1, random_state=42)\n",
    "X_train, X_test, y_train, y_test = train_test_split(X_temp, y_temp, test_size=0.1, random_state=42)"
   ]
  },
  {
   "cell_type": "code",
   "execution_count": 17,
   "metadata": {
    "execution": {
     "iopub.execute_input": "2025-09-08T05:50:43.789973Z",
     "iopub.status.busy": "2025-09-08T05:50:43.789558Z",
     "iopub.status.idle": "2025-09-08T05:50:43.795031Z",
     "shell.execute_reply": "2025-09-08T05:50:43.794422Z",
     "shell.execute_reply.started": "2025-09-08T05:50:43.789950Z"
    },
    "trusted": true
   },
   "outputs": [
    {
     "data": {
      "text/plain": [
       "((8568, 128, 128), (8568,), (1058, 128, 128), (1058,), (952, 128, 128), (952,))"
      ]
     },
     "execution_count": 17,
     "metadata": {},
     "output_type": "execute_result"
    }
   ],
   "source": [
    "X_train.shape, y_train.shape, X_val.shape, y_val.shape, X_test.shape, y_test.shape"
   ]
  },
  {
   "cell_type": "markdown",
   "metadata": {},
   "source": [
    "## Model development"
   ]
  },
  {
   "cell_type": "code",
   "execution_count": 18,
   "metadata": {
    "execution": {
     "iopub.execute_input": "2025-09-08T05:51:48.471350Z",
     "iopub.status.busy": "2025-09-08T05:51:48.471062Z",
     "iopub.status.idle": "2025-09-08T05:52:01.405810Z",
     "shell.execute_reply": "2025-09-08T05:52:01.405216Z",
     "shell.execute_reply.started": "2025-09-08T05:51:48.471328Z"
    },
    "trusted": true
   },
   "outputs": [
    {
     "name": "stderr",
     "output_type": "stream",
     "text": [
      "2025-09-08 05:51:49.888627: E external/local_xla/xla/stream_executor/cuda/cuda_fft.cc:477] Unable to register cuFFT factory: Attempting to register factory for plugin cuFFT when one has already been registered\n",
      "WARNING: All log messages before absl::InitializeLog() is called are written to STDERR\n",
      "E0000 00:00:1757310710.075770      36 cuda_dnn.cc:8310] Unable to register cuDNN factory: Attempting to register factory for plugin cuDNN when one has already been registered\n",
      "E0000 00:00:1757310710.128894      36 cuda_blas.cc:1418] Unable to register cuBLAS factory: Attempting to register factory for plugin cuBLAS when one has already been registered\n"
     ]
    }
   ],
   "source": [
    "import tensorflow as tf\n",
    "from tensorflow.keras.models import Sequential \n",
    "from tensorflow.keras.layers import Dense ,Flatten ,Conv2D ,MaxPooling2D ,Dropout ,BatchNormalization ,GlobalMaxPool2D\n",
    "from tensorflow.keras.optimizers import Adam\n",
    "from tensorflow.keras.callbacks import EarlyStopping ,ReduceLROnPlateau ,ModelCheckpoint"
   ]
  },
  {
   "cell_type": "markdown",
   "metadata": {},
   "source": [
    "The CNN model consists of two convolutional layers followed by max-pooling layers to extract hierarchical features from the X-ray images. The first convolutional layer has 64 filters, while the second has 32 filters, both using a 3×3 kernel and ReLU activation. The feature maps are then flattened and passed through two fully connected dense layers with 128 and 64 neurons, respectively, before the output layer. The output layer uses a sigmoid activation to predict the probability of an image being fractured or non-fractured. This simple yet effective architecture allows the model to learn spatial patterns relevant for fracture detection."
   ]
  },
  {
   "cell_type": "code",
   "execution_count": 19,
   "metadata": {
    "execution": {
     "iopub.execute_input": "2025-09-08T05:52:04.324760Z",
     "iopub.status.busy": "2025-09-08T05:52:04.324198Z",
     "iopub.status.idle": "2025-09-08T05:52:06.767187Z",
     "shell.execute_reply": "2025-09-08T05:52:06.766676Z",
     "shell.execute_reply.started": "2025-09-08T05:52:04.324734Z"
    },
    "trusted": true
   },
   "outputs": [
    {
     "name": "stderr",
     "output_type": "stream",
     "text": [
      "/usr/local/lib/python3.11/dist-packages/keras/src/layers/convolutional/base_conv.py:107: UserWarning: Do not pass an `input_shape`/`input_dim` argument to a layer. When using Sequential models, prefer using an `Input(shape)` object as the first layer in the model instead.\n",
      "  super().__init__(activity_regularizer=activity_regularizer, **kwargs)\n",
      "I0000 00:00:1757310725.445317      36 gpu_device.cc:2022] Created device /job:localhost/replica:0/task:0/device:GPU:0 with 15513 MB memory:  -> device: 0, name: Tesla P100-PCIE-16GB, pci bus id: 0000:00:04.0, compute capability: 6.0\n"
     ]
    },
    {
     "data": {
      "text/html": [
       "<pre style=\"white-space:pre;overflow-x:auto;line-height:normal;font-family:Menlo,'DejaVu Sans Mono',consolas,'Courier New',monospace\"><span style=\"font-weight: bold\">Model: \"sequential\"</span>\n",
       "</pre>\n"
      ],
      "text/plain": [
       "\u001b[1mModel: \"sequential\"\u001b[0m\n"
      ]
     },
     "metadata": {},
     "output_type": "display_data"
    },
    {
     "data": {
      "text/html": [
       "<pre style=\"white-space:pre;overflow-x:auto;line-height:normal;font-family:Menlo,'DejaVu Sans Mono',consolas,'Courier New',monospace\">┏━━━━━━━━━━━━━━━━━━━━━━━━━━━━━━━━━┳━━━━━━━━━━━━━━━━━━━━━━━━┳━━━━━━━━━━━━━━━┓\n",
       "┃<span style=\"font-weight: bold\"> Layer (type)                    </span>┃<span style=\"font-weight: bold\"> Output Shape           </span>┃<span style=\"font-weight: bold\">       Param # </span>┃\n",
       "┡━━━━━━━━━━━━━━━━━━━━━━━━━━━━━━━━━╇━━━━━━━━━━━━━━━━━━━━━━━━╇━━━━━━━━━━━━━━━┩\n",
       "│ conv2d (<span style=\"color: #0087ff; text-decoration-color: #0087ff\">Conv2D</span>)                 │ (<span style=\"color: #00d7ff; text-decoration-color: #00d7ff\">None</span>, <span style=\"color: #00af00; text-decoration-color: #00af00\">126</span>, <span style=\"color: #00af00; text-decoration-color: #00af00\">126</span>, <span style=\"color: #00af00; text-decoration-color: #00af00\">64</span>)   │           <span style=\"color: #00af00; text-decoration-color: #00af00\">640</span> │\n",
       "├─────────────────────────────────┼────────────────────────┼───────────────┤\n",
       "│ max_pooling2d (<span style=\"color: #0087ff; text-decoration-color: #0087ff\">MaxPooling2D</span>)    │ (<span style=\"color: #00d7ff; text-decoration-color: #00d7ff\">None</span>, <span style=\"color: #00af00; text-decoration-color: #00af00\">63</span>, <span style=\"color: #00af00; text-decoration-color: #00af00\">63</span>, <span style=\"color: #00af00; text-decoration-color: #00af00\">64</span>)     │             <span style=\"color: #00af00; text-decoration-color: #00af00\">0</span> │\n",
       "├─────────────────────────────────┼────────────────────────┼───────────────┤\n",
       "│ conv2d_1 (<span style=\"color: #0087ff; text-decoration-color: #0087ff\">Conv2D</span>)               │ (<span style=\"color: #00d7ff; text-decoration-color: #00d7ff\">None</span>, <span style=\"color: #00af00; text-decoration-color: #00af00\">61</span>, <span style=\"color: #00af00; text-decoration-color: #00af00\">61</span>, <span style=\"color: #00af00; text-decoration-color: #00af00\">32</span>)     │        <span style=\"color: #00af00; text-decoration-color: #00af00\">18,464</span> │\n",
       "├─────────────────────────────────┼────────────────────────┼───────────────┤\n",
       "│ max_pooling2d_1 (<span style=\"color: #0087ff; text-decoration-color: #0087ff\">MaxPooling2D</span>)  │ (<span style=\"color: #00d7ff; text-decoration-color: #00d7ff\">None</span>, <span style=\"color: #00af00; text-decoration-color: #00af00\">30</span>, <span style=\"color: #00af00; text-decoration-color: #00af00\">30</span>, <span style=\"color: #00af00; text-decoration-color: #00af00\">32</span>)     │             <span style=\"color: #00af00; text-decoration-color: #00af00\">0</span> │\n",
       "├─────────────────────────────────┼────────────────────────┼───────────────┤\n",
       "│ flatten (<span style=\"color: #0087ff; text-decoration-color: #0087ff\">Flatten</span>)               │ (<span style=\"color: #00d7ff; text-decoration-color: #00d7ff\">None</span>, <span style=\"color: #00af00; text-decoration-color: #00af00\">28800</span>)          │             <span style=\"color: #00af00; text-decoration-color: #00af00\">0</span> │\n",
       "├─────────────────────────────────┼────────────────────────┼───────────────┤\n",
       "│ dense (<span style=\"color: #0087ff; text-decoration-color: #0087ff\">Dense</span>)                   │ (<span style=\"color: #00d7ff; text-decoration-color: #00d7ff\">None</span>, <span style=\"color: #00af00; text-decoration-color: #00af00\">128</span>)            │     <span style=\"color: #00af00; text-decoration-color: #00af00\">3,686,528</span> │\n",
       "├─────────────────────────────────┼────────────────────────┼───────────────┤\n",
       "│ dense_1 (<span style=\"color: #0087ff; text-decoration-color: #0087ff\">Dense</span>)                 │ (<span style=\"color: #00d7ff; text-decoration-color: #00d7ff\">None</span>, <span style=\"color: #00af00; text-decoration-color: #00af00\">64</span>)             │         <span style=\"color: #00af00; text-decoration-color: #00af00\">8,256</span> │\n",
       "├─────────────────────────────────┼────────────────────────┼───────────────┤\n",
       "│ dense_2 (<span style=\"color: #0087ff; text-decoration-color: #0087ff\">Dense</span>)                 │ (<span style=\"color: #00d7ff; text-decoration-color: #00d7ff\">None</span>, <span style=\"color: #00af00; text-decoration-color: #00af00\">1</span>)              │            <span style=\"color: #00af00; text-decoration-color: #00af00\">65</span> │\n",
       "└─────────────────────────────────┴────────────────────────┴───────────────┘\n",
       "</pre>\n"
      ],
      "text/plain": [
       "┏━━━━━━━━━━━━━━━━━━━━━━━━━━━━━━━━━┳━━━━━━━━━━━━━━━━━━━━━━━━┳━━━━━━━━━━━━━━━┓\n",
       "┃\u001b[1m \u001b[0m\u001b[1mLayer (type)                   \u001b[0m\u001b[1m \u001b[0m┃\u001b[1m \u001b[0m\u001b[1mOutput Shape          \u001b[0m\u001b[1m \u001b[0m┃\u001b[1m \u001b[0m\u001b[1m      Param #\u001b[0m\u001b[1m \u001b[0m┃\n",
       "┡━━━━━━━━━━━━━━━━━━━━━━━━━━━━━━━━━╇━━━━━━━━━━━━━━━━━━━━━━━━╇━━━━━━━━━━━━━━━┩\n",
       "│ conv2d (\u001b[38;5;33mConv2D\u001b[0m)                 │ (\u001b[38;5;45mNone\u001b[0m, \u001b[38;5;34m126\u001b[0m, \u001b[38;5;34m126\u001b[0m, \u001b[38;5;34m64\u001b[0m)   │           \u001b[38;5;34m640\u001b[0m │\n",
       "├─────────────────────────────────┼────────────────────────┼───────────────┤\n",
       "│ max_pooling2d (\u001b[38;5;33mMaxPooling2D\u001b[0m)    │ (\u001b[38;5;45mNone\u001b[0m, \u001b[38;5;34m63\u001b[0m, \u001b[38;5;34m63\u001b[0m, \u001b[38;5;34m64\u001b[0m)     │             \u001b[38;5;34m0\u001b[0m │\n",
       "├─────────────────────────────────┼────────────────────────┼───────────────┤\n",
       "│ conv2d_1 (\u001b[38;5;33mConv2D\u001b[0m)               │ (\u001b[38;5;45mNone\u001b[0m, \u001b[38;5;34m61\u001b[0m, \u001b[38;5;34m61\u001b[0m, \u001b[38;5;34m32\u001b[0m)     │        \u001b[38;5;34m18,464\u001b[0m │\n",
       "├─────────────────────────────────┼────────────────────────┼───────────────┤\n",
       "│ max_pooling2d_1 (\u001b[38;5;33mMaxPooling2D\u001b[0m)  │ (\u001b[38;5;45mNone\u001b[0m, \u001b[38;5;34m30\u001b[0m, \u001b[38;5;34m30\u001b[0m, \u001b[38;5;34m32\u001b[0m)     │             \u001b[38;5;34m0\u001b[0m │\n",
       "├─────────────────────────────────┼────────────────────────┼───────────────┤\n",
       "│ flatten (\u001b[38;5;33mFlatten\u001b[0m)               │ (\u001b[38;5;45mNone\u001b[0m, \u001b[38;5;34m28800\u001b[0m)          │             \u001b[38;5;34m0\u001b[0m │\n",
       "├─────────────────────────────────┼────────────────────────┼───────────────┤\n",
       "│ dense (\u001b[38;5;33mDense\u001b[0m)                   │ (\u001b[38;5;45mNone\u001b[0m, \u001b[38;5;34m128\u001b[0m)            │     \u001b[38;5;34m3,686,528\u001b[0m │\n",
       "├─────────────────────────────────┼────────────────────────┼───────────────┤\n",
       "│ dense_1 (\u001b[38;5;33mDense\u001b[0m)                 │ (\u001b[38;5;45mNone\u001b[0m, \u001b[38;5;34m64\u001b[0m)             │         \u001b[38;5;34m8,256\u001b[0m │\n",
       "├─────────────────────────────────┼────────────────────────┼───────────────┤\n",
       "│ dense_2 (\u001b[38;5;33mDense\u001b[0m)                 │ (\u001b[38;5;45mNone\u001b[0m, \u001b[38;5;34m1\u001b[0m)              │            \u001b[38;5;34m65\u001b[0m │\n",
       "└─────────────────────────────────┴────────────────────────┴───────────────┘\n"
      ]
     },
     "metadata": {},
     "output_type": "display_data"
    },
    {
     "data": {
      "text/html": [
       "<pre style=\"white-space:pre;overflow-x:auto;line-height:normal;font-family:Menlo,'DejaVu Sans Mono',consolas,'Courier New',monospace\"><span style=\"font-weight: bold\"> Total params: </span><span style=\"color: #00af00; text-decoration-color: #00af00\">3,713,953</span> (14.17 MB)\n",
       "</pre>\n"
      ],
      "text/plain": [
       "\u001b[1m Total params: \u001b[0m\u001b[38;5;34m3,713,953\u001b[0m (14.17 MB)\n"
      ]
     },
     "metadata": {},
     "output_type": "display_data"
    },
    {
     "data": {
      "text/html": [
       "<pre style=\"white-space:pre;overflow-x:auto;line-height:normal;font-family:Menlo,'DejaVu Sans Mono',consolas,'Courier New',monospace\"><span style=\"font-weight: bold\"> Trainable params: </span><span style=\"color: #00af00; text-decoration-color: #00af00\">3,713,953</span> (14.17 MB)\n",
       "</pre>\n"
      ],
      "text/plain": [
       "\u001b[1m Trainable params: \u001b[0m\u001b[38;5;34m3,713,953\u001b[0m (14.17 MB)\n"
      ]
     },
     "metadata": {},
     "output_type": "display_data"
    },
    {
     "data": {
      "text/html": [
       "<pre style=\"white-space:pre;overflow-x:auto;line-height:normal;font-family:Menlo,'DejaVu Sans Mono',consolas,'Courier New',monospace\"><span style=\"font-weight: bold\"> Non-trainable params: </span><span style=\"color: #00af00; text-decoration-color: #00af00\">0</span> (0.00 B)\n",
       "</pre>\n"
      ],
      "text/plain": [
       "\u001b[1m Non-trainable params: \u001b[0m\u001b[38;5;34m0\u001b[0m (0.00 B)\n"
      ]
     },
     "metadata": {},
     "output_type": "display_data"
    }
   ],
   "source": [
    "model = Sequential([\n",
    "\n",
    "    Conv2D(64, (3, 3), activation='relu', input_shape=(128, 128, 1)), # Convo 1\n",
    "    MaxPooling2D((2, 2)), # Maxpool 1\n",
    "\n",
    "    Conv2D(32, (3, 3), activation='relu'), # Convo 2\n",
    "    MaxPooling2D((2, 2)), # Maxpool 2\n",
    "\n",
    "    Flatten(), # Flatten\n",
    "\n",
    "    Dense(128, activation='relu'), # Hidden layer 1\n",
    "    Dense(64, activation='relu'), # Hidden layer 2\n",
    "\n",
    "    Dense(1, activation='sigmoid') # Output layer\n",
    "    \n",
    "])\n",
    "\n",
    "model.summary()"
   ]
  },
  {
   "cell_type": "markdown",
   "metadata": {},
   "source": [
    "The model was compiled using the Adam optimizer with a learning rate of 0.001. To improve training and prevent overfitting, several callbacks were used: EarlyStopping to halt training if the validation performance did not improve for 10 epochs, ReduceLROnPlateau to decrease the learning rate when validation accuracy plateaued, and ModelCheckpoint to save the best model based on validation loss. These strategies help the model converge efficiently while retaining its best-performing weights."
   ]
  },
  {
   "cell_type": "code",
   "execution_count": 20,
   "metadata": {
    "execution": {
     "iopub.execute_input": "2025-09-08T05:52:35.755535Z",
     "iopub.status.busy": "2025-09-08T05:52:35.755062Z",
     "iopub.status.idle": "2025-09-08T05:52:35.766044Z",
     "shell.execute_reply": "2025-09-08T05:52:35.765345Z",
     "shell.execute_reply.started": "2025-09-08T05:52:35.755511Z"
    },
    "trusted": true
   },
   "outputs": [],
   "source": [
    "optimizer_adam = Adam(learning_rate=0.001)\n",
    "\n",
    "EarlyStop = EarlyStopping(patience=10,restore_best_weights=True)\n",
    "Reduce_LR = ReduceLROnPlateau(monitor='val_accuracy',verbose=2,factor=0.5,min_lr=0.00001)\n",
    "model_check = ModelCheckpoint('model.h5',monitor='val_loss',verbose=1,save_best_only=True)\n",
    "callback = [EarlyStop, Reduce_LR, model_check]"
   ]
  },
  {
   "cell_type": "code",
   "execution_count": 21,
   "metadata": {
    "execution": {
     "iopub.execute_input": "2025-09-08T05:52:50.740004Z",
     "iopub.status.busy": "2025-09-08T05:52:50.739756Z",
     "iopub.status.idle": "2025-09-08T05:52:50.748405Z",
     "shell.execute_reply": "2025-09-08T05:52:50.747831Z",
     "shell.execute_reply.started": "2025-09-08T05:52:50.739987Z"
    },
    "trusted": true
   },
   "outputs": [],
   "source": [
    "model.compile(\n",
    "    optimizer = optimizer_adam,\n",
    "    loss = 'binary_crossentropy',\n",
    "    metrics=['accuracy']\n",
    ")"
   ]
  },
  {
   "cell_type": "markdown",
   "metadata": {},
   "source": [
    "## Model trainning"
   ]
  },
  {
   "cell_type": "markdown",
   "metadata": {},
   "source": [
    "The model was trained for 10 epochs with a batch size of 16 using the prepared training data. Validation data was used to monitor the model’s performance on unseen images during training. The previously defined callbacks EarlyStopping, ReduceLROnPlateau, and ModelCheckpoint ensured efficient training, prevented overfitting, and saved the best performing model. The training history, including accuracy and loss metrics for both training and validation sets, was recorded for further analysis and visualization."
   ]
  },
  {
   "cell_type": "code",
   "execution_count": 22,
   "metadata": {
    "execution": {
     "iopub.execute_input": "2025-09-08T05:53:10.400951Z",
     "iopub.status.busy": "2025-09-08T05:53:10.400359Z",
     "iopub.status.idle": "2025-09-08T05:53:50.995572Z",
     "shell.execute_reply": "2025-09-08T05:53:50.994948Z",
     "shell.execute_reply.started": "2025-09-08T05:53:10.400928Z"
    },
    "trusted": true
   },
   "outputs": [
    {
     "name": "stdout",
     "output_type": "stream",
     "text": [
      "Epoch 1/10\n"
     ]
    },
    {
     "name": "stderr",
     "output_type": "stream",
     "text": [
      "WARNING: All log messages before absl::InitializeLog() is called are written to STDERR\n",
      "I0000 00:00:1757310793.150698     120 service.cc:148] XLA service 0x7af200005490 initialized for platform CUDA (this does not guarantee that XLA will be used). Devices:\n",
      "I0000 00:00:1757310793.151339     120 service.cc:156]   StreamExecutor device (0): Tesla P100-PCIE-16GB, Compute Capability 6.0\n",
      "I0000 00:00:1757310793.452740     120 cuda_dnn.cc:529] Loaded cuDNN version 90300\n"
     ]
    },
    {
     "name": "stdout",
     "output_type": "stream",
     "text": [
      "\u001b[1m 27/536\u001b[0m \u001b[32m━\u001b[0m\u001b[37m━━━━━━━━━━━━━━━━━━━\u001b[0m \u001b[1m3s\u001b[0m 6ms/step - accuracy: 0.5325 - loss: 12.5781"
     ]
    },
    {
     "name": "stderr",
     "output_type": "stream",
     "text": [
      "I0000 00:00:1757310795.345972     120 device_compiler.h:188] Compiled cluster using XLA!  This line is logged at most once for the lifetime of the process.\n"
     ]
    },
    {
     "name": "stdout",
     "output_type": "stream",
     "text": [
      "\u001b[1m536/536\u001b[0m \u001b[32m━━━━━━━━━━━━━━━━━━━━\u001b[0m\u001b[37m\u001b[0m \u001b[1m0s\u001b[0m 8ms/step - accuracy: 0.7762 - loss: 1.6930\n",
      "Epoch 1: val_loss improved from inf to 0.13984, saving model to model.h5\n",
      "\u001b[1m536/536\u001b[0m \u001b[32m━━━━━━━━━━━━━━━━━━━━\u001b[0m\u001b[37m\u001b[0m \u001b[1m10s\u001b[0m 11ms/step - accuracy: 0.7764 - loss: 1.6908 - val_accuracy: 0.9480 - val_loss: 0.1398 - learning_rate: 0.0010\n",
      "Epoch 2/10\n",
      "\u001b[1m532/536\u001b[0m \u001b[32m━━━━━━━━━━━━━━━━━━━\u001b[0m\u001b[37m━\u001b[0m \u001b[1m0s\u001b[0m 6ms/step - accuracy: 0.9689 - loss: 0.0932\n",
      "Epoch 2: val_loss improved from 0.13984 to 0.12027, saving model to model.h5\n",
      "\u001b[1m536/536\u001b[0m \u001b[32m━━━━━━━━━━━━━━━━━━━━\u001b[0m\u001b[37m\u001b[0m \u001b[1m3s\u001b[0m 6ms/step - accuracy: 0.9690 - loss: 0.0931 - val_accuracy: 0.9783 - val_loss: 0.1203 - learning_rate: 0.0010\n",
      "Epoch 3/10\n",
      "\u001b[1m532/536\u001b[0m \u001b[32m━━━━━━━━━━━━━━━━━━━\u001b[0m\u001b[37m━\u001b[0m \u001b[1m0s\u001b[0m 6ms/step - accuracy: 0.9887 - loss: 0.0387\n",
      "Epoch 3: val_loss did not improve from 0.12027\n",
      "\u001b[1m536/536\u001b[0m \u001b[32m━━━━━━━━━━━━━━━━━━━━\u001b[0m\u001b[37m\u001b[0m \u001b[1m3s\u001b[0m 6ms/step - accuracy: 0.9887 - loss: 0.0388 - val_accuracy: 0.9735 - val_loss: 0.1279 - learning_rate: 0.0010\n",
      "Epoch 4/10\n",
      "\u001b[1m532/536\u001b[0m \u001b[32m━━━━━━━━━━━━━━━━━━━\u001b[0m\u001b[37m━\u001b[0m \u001b[1m0s\u001b[0m 6ms/step - accuracy: 0.9926 - loss: 0.0285\n",
      "Epoch 4: val_loss did not improve from 0.12027\n",
      "\u001b[1m536/536\u001b[0m \u001b[32m━━━━━━━━━━━━━━━━━━━━\u001b[0m\u001b[37m\u001b[0m \u001b[1m3s\u001b[0m 6ms/step - accuracy: 0.9925 - loss: 0.0285 - val_accuracy: 0.9565 - val_loss: 0.1371 - learning_rate: 0.0010\n",
      "Epoch 5/10\n",
      "\u001b[1m533/536\u001b[0m \u001b[32m━━━━━━━━━━━━━━━━━━━\u001b[0m\u001b[37m━\u001b[0m \u001b[1m0s\u001b[0m 6ms/step - accuracy: 0.9898 - loss: 0.0327\n",
      "Epoch 5: val_loss did not improve from 0.12027\n",
      "\u001b[1m536/536\u001b[0m \u001b[32m━━━━━━━━━━━━━━━━━━━━\u001b[0m\u001b[37m\u001b[0m \u001b[1m3s\u001b[0m 6ms/step - accuracy: 0.9898 - loss: 0.0326 - val_accuracy: 0.9764 - val_loss: 0.1326 - learning_rate: 0.0010\n",
      "Epoch 6/10\n",
      "\u001b[1m532/536\u001b[0m \u001b[32m━━━━━━━━━━━━━━━━━━━\u001b[0m\u001b[37m━\u001b[0m \u001b[1m0s\u001b[0m 6ms/step - accuracy: 0.9965 - loss: 0.0112\n",
      "Epoch 6: val_loss did not improve from 0.12027\n",
      "\u001b[1m536/536\u001b[0m \u001b[32m━━━━━━━━━━━━━━━━━━━━\u001b[0m\u001b[37m\u001b[0m \u001b[1m3s\u001b[0m 6ms/step - accuracy: 0.9966 - loss: 0.0111 - val_accuracy: 0.9811 - val_loss: 0.1450 - learning_rate: 0.0010\n",
      "Epoch 7/10\n",
      "\u001b[1m531/536\u001b[0m \u001b[32m━━━━━━━━━━━━━━━━━━━\u001b[0m\u001b[37m━\u001b[0m \u001b[1m0s\u001b[0m 6ms/step - accuracy: 0.9988 - loss: 0.0041\n",
      "Epoch 7: val_loss did not improve from 0.12027\n",
      "\u001b[1m536/536\u001b[0m \u001b[32m━━━━━━━━━━━━━━━━━━━━\u001b[0m\u001b[37m\u001b[0m \u001b[1m3s\u001b[0m 6ms/step - accuracy: 0.9987 - loss: 0.0042 - val_accuracy: 0.9745 - val_loss: 0.1579 - learning_rate: 0.0010\n",
      "Epoch 8/10\n",
      "\u001b[1m535/536\u001b[0m \u001b[32m━━━━━━━━━━━━━━━━━━━\u001b[0m\u001b[37m━\u001b[0m \u001b[1m0s\u001b[0m 6ms/step - accuracy: 0.9840 - loss: 0.0745\n",
      "Epoch 8: val_loss did not improve from 0.12027\n",
      "\u001b[1m536/536\u001b[0m \u001b[32m━━━━━━━━━━━━━━━━━━━━\u001b[0m\u001b[37m\u001b[0m \u001b[1m3s\u001b[0m 6ms/step - accuracy: 0.9840 - loss: 0.0745 - val_accuracy: 0.9839 - val_loss: 0.1382 - learning_rate: 0.0010\n",
      "Epoch 9/10\n",
      "\u001b[1m532/536\u001b[0m \u001b[32m━━━━━━━━━━━━━━━━━━━\u001b[0m\u001b[37m━\u001b[0m \u001b[1m0s\u001b[0m 6ms/step - accuracy: 0.9885 - loss: 0.0403\n",
      "Epoch 9: val_loss did not improve from 0.12027\n",
      "\u001b[1m536/536\u001b[0m \u001b[32m━━━━━━━━━━━━━━━━━━━━\u001b[0m\u001b[37m\u001b[0m \u001b[1m3s\u001b[0m 6ms/step - accuracy: 0.9885 - loss: 0.0403 - val_accuracy: 0.9820 - val_loss: 0.1565 - learning_rate: 0.0010\n",
      "Epoch 10/10\n",
      "\u001b[1m530/536\u001b[0m \u001b[32m━━━━━━━━━━━━━━━━━━━\u001b[0m\u001b[37m━\u001b[0m \u001b[1m0s\u001b[0m 6ms/step - accuracy: 0.9962 - loss: 0.0099\n",
      "Epoch 10: val_loss did not improve from 0.12027\n",
      "\u001b[1m536/536\u001b[0m \u001b[32m━━━━━━━━━━━━━━━━━━━━\u001b[0m\u001b[37m\u001b[0m \u001b[1m3s\u001b[0m 6ms/step - accuracy: 0.9962 - loss: 0.0098 - val_accuracy: 0.9849 - val_loss: 0.2024 - learning_rate: 0.0010\n"
     ]
    }
   ],
   "source": [
    "epochs = 10\n",
    "\n",
    "hist = model.fit(\n",
    "    x = X_train,\n",
    "    y = y_train,\n",
    "    epochs = epochs,\n",
    "    batch_size = 16,\n",
    "    validation_data = (X_val, y_val),\n",
    "    callbacks = callback\n",
    ").history"
   ]
  },
  {
   "cell_type": "markdown",
   "metadata": {},
   "source": [
    "## Model evaluation"
   ]
  },
  {
   "cell_type": "code",
   "execution_count": 36,
   "metadata": {
    "execution": {
     "iopub.execute_input": "2025-09-08T06:38:04.762825Z",
     "iopub.status.busy": "2025-09-08T06:38:04.762547Z",
     "iopub.status.idle": "2025-09-08T06:38:04.944051Z",
     "shell.execute_reply": "2025-09-08T06:38:04.943335Z",
     "shell.execute_reply.started": "2025-09-08T06:38:04.762806Z"
    },
    "trusted": true
   },
   "outputs": [
    {
     "data": {
      "image/png": "[encoded data removed]",
      "text/plain": [
       "<Figure size 800x600 with 1 Axes>"
      ]
     },
     "metadata": {},
     "output_type": "display_data"
    }
   ],
   "source": [
    "import matplotlib.pyplot as plt\n",
    "\n",
    "# Plot training & validation accuracy values\n",
    "plt.figure(figsize=(8, 6))\n",
    "plt.plot(hist['accuracy'], label='Training Accuracy', marker='o')\n",
    "plt.plot(hist['val_accuracy'], label='Validation Accuracy', marker='s')\n",
    "plt.title('Model Accuracy Over Epochs')\n",
    "plt.xlabel('Epoch')\n",
    "plt.ylabel('Accuracy')\n",
    "plt.legend()\n",
    "plt.grid(True)\n",
    "plt.show()\n"
   ]
  },
  {
   "cell_type": "markdown",
   "metadata": {},
   "source": [
    "During training, the model achieved very high training accuracy, reaching over 99%, indicating that it learned the patterns in the training data very well. The validation accuracy remained slightly lower, peaking around 98%, which shows that the model generalizes effectively to unseen data without significant overfitting. The training and validation loss trends also reflect stable learning, with the best model saved based on validation loss for reliable performance on new X-ray images."
   ]
  },
  {
   "cell_type": "code",
   "execution_count": 37,
   "metadata": {
    "execution": {
     "iopub.execute_input": "2025-09-08T06:39:42.866741Z",
     "iopub.status.busy": "2025-09-08T06:39:42.866395Z",
     "iopub.status.idle": "2025-09-08T06:39:43.033224Z",
     "shell.execute_reply": "2025-09-08T06:39:43.032583Z",
     "shell.execute_reply.started": "2025-09-08T06:39:42.866718Z"
    },
    "trusted": true
   },
   "outputs": [
    {
     "data": {
      "image/png": "[encoded data removed]",
      "text/plain": [
       "<Figure size 800x600 with 1 Axes>"
      ]
     },
     "metadata": {},
     "output_type": "display_data"
    }
   ],
   "source": [
    "\n",
    "\n",
    "# Plot training & validation loss values\n",
    "plt.figure(figsize=(8, 6))\n",
    "plt.plot(hist['loss'], label='Training Loss', marker='o')\n",
    "plt.plot(hist['val_loss'], label='Validation Loss', marker='s')\n",
    "plt.title('Model Loss Over Epochs')\n",
    "plt.xlabel('Epoch')\n",
    "plt.ylabel('Loss')\n",
    "plt.legend()\n",
    "plt.grid(True)\n",
    "plt.show()\n"
   ]
  },
  {
   "cell_type": "markdown",
   "metadata": {},
   "source": [
    "The training and validation loss curves show how well the model learned to minimize errors. The training loss steadily decreased to very low values, indicating that the model effectively learned the features in the training data. The validation loss also remained low and relatively stable, slightly higher than the training loss, which suggests that the model generalizes well to unseen data without overfitting. These trends confirm that the CNN was able to learn meaningful patterns for accurate fracture detection."
   ]
  },
  {
   "cell_type": "code",
   "execution_count": 38,
   "metadata": {
    "execution": {
     "iopub.execute_input": "2025-09-08T06:39:49.351118Z",
     "iopub.status.busy": "2025-09-08T06:39:49.350849Z",
     "iopub.status.idle": "2025-09-08T06:39:49.606276Z",
     "shell.execute_reply": "2025-09-08T06:39:49.605708Z",
     "shell.execute_reply.started": "2025-09-08T06:39:49.351099Z"
    },
    "trusted": true
   },
   "outputs": [
    {
     "name": "stdout",
     "output_type": "stream",
     "text": [
      "\u001b[1m60/60\u001b[0m \u001b[32m━━━━━━━━━━━━━━━━━━━━\u001b[0m\u001b[37m\u001b[0m \u001b[1m0s\u001b[0m 3ms/step - accuracy: 0.9918 - loss: 0.0421 \n",
      "Test Accuracy:  0.9884454011917114\n",
      "Test Loss:  0.054323114454746246\n"
     ]
    }
   ],
   "source": [
    "op = model.evaluate(x = X_test, y = y_test, batch_size=16)\n",
    "print(\"Test Accuracy: \", op[1])\n",
    "print(\"Test Loss: \", op[0])"
   ]
  },
  {
   "cell_type": "markdown",
   "metadata": {},
   "source": [
    "The trained CNN model was evaluated on the test dataset to assess its performance on unseen images. It achieved a test accuracy of approximately 98.8% and a test loss of 0.054, demonstrating that the model generalizes very well and can reliably distinguish between fractured and non-fractured bones. These results highlight the effectiveness of the CNN architecture and preprocessing pipeline in accurately detecting bone fractures from X-ray images."
   ]
  },
  {
   "cell_type": "markdown",
   "metadata": {},
   "source": [
    "## Predictive system"
   ]
  },
  {
   "cell_type": "code",
   "execution_count": 39,
   "metadata": {
    "execution": {
     "iopub.execute_input": "2025-09-08T06:41:33.923789Z",
     "iopub.status.busy": "2025-09-08T06:41:33.923230Z",
     "iopub.status.idle": "2025-09-08T06:41:34.332397Z",
     "shell.execute_reply": "2025-09-08T06:41:34.331686Z",
     "shell.execute_reply.started": "2025-09-08T06:41:33.923767Z"
    },
    "trusted": true
   },
   "outputs": [
    {
     "name": "stdout",
     "output_type": "stream",
     "text": [
      "\u001b[1m1/1\u001b[0m \u001b[32m━━━━━━━━━━━━━━━━━━━━\u001b[0m\u001b[37m\u001b[0m \u001b[1m0s\u001b[0m 30ms/step\n",
      "Probability: 0.0000 → Predicted: not fractured\n"
     ]
    },
    {
     "data": {
      "image/png": "[encoded data removed]",
      "text/plain": [
       "<Figure size 400x400 with 1 Axes>"
      ]
     },
     "metadata": {},
     "output_type": "display_data"
    },
    {
     "name": "stdout",
     "output_type": "stream",
     "text": [
      "\u001b[1m1/1\u001b[0m \u001b[32m━━━━━━━━━━━━━━━━━━━━\u001b[0m\u001b[37m\u001b[0m \u001b[1m0s\u001b[0m 29ms/step\n",
      "Probability: 0.9943 → Predicted: fractured\n"
     ]
    },
    {
     "data": {
      "image/png": "[encoded data removed]",
      "text/plain": [
       "<Figure size 400x400 with 1 Axes>"
      ]
     },
     "metadata": {},
     "output_type": "display_data"
    }
   ],
   "source": [
    "import cv2\n",
    "import numpy as np\n",
    "import matplotlib.pyplot as plt\n",
    "\n",
    "def predict_class(img_path):\n",
    "    # Read image in grayscale\n",
    "    image = cv2.imread(img_path, cv2.IMREAD_GRAYSCALE)\n",
    "\n",
    "    if image is not None:\n",
    "        # Resize for model input\n",
    "        img_resized = cv2.resize(image, (128, 128))\n",
    "        # Make prediction\n",
    "        result = model.predict(np.expand_dims(img_resized, axis=0))\n",
    "        prob = result[0][0]\n",
    "        label = \"fractured\" if prob >= 0.5 else \"not fractured\"\n",
    "\n",
    "        # Print prediction\n",
    "        print(f\"Probability: {prob:.4f} → Predicted: {label}\")\n",
    "\n",
    "        # Display the image with title\n",
    "        plt.figure(figsize=(4,4))\n",
    "        plt.imshow(image, cmap='gray')\n",
    "        plt.title(f\"Predicted: {label} ({prob:.2f})\")\n",
    "        plt.axis('off')\n",
    "        plt.show()\n",
    "    else:\n",
    "        print(\"Fault Image\")\n",
    "\n",
    "# Example usage\n",
    "predict_class('/kaggle/input/test-bone/normal bone.png')\n",
    "predict_class('/kaggle/input/test-bone/fracture bone.jpeg')\n",
    "\n",
    "\n"
   ]
  },
  {
   "cell_type": "code",
   "execution_count": null,
   "metadata": {
    "trusted": true
   },
   "outputs": [],
   "source": []
  }
 ],
 "metadata": {
  "kaggle": {
   "accelerator": "gpu",
   "dataSources": [
    {
     "datasetId": 4854718,
     "sourceId": 8201044,
     "sourceType": "datasetVersion"
    },
    {
     "datasetId": 8223619,
     "sourceId": 12992377,
     "sourceType": "datasetVersion"
    },
    {
     "datasetId": 8223673,
     "sourceId": 12992421,
     "sourceType": "datasetVersion"
    }
   ],
   "dockerImageVersionId": 31090,
   "isGpuEnabled": true,
   "isInternetEnabled": true,
   "language": "python",
   "sourceType": "notebook"
  },
  "kernelspec": {
   "display_name": "Python 3",
   "language": "python",
   "name": "python3"
  },
  "language_info": {
   "codemirror_mode": {
    "name": "ipython",
    "version": 3
   },
   "file_extension": ".py",
   "mimetype": "text/x-python",
   "name": "python",
   "nbconvert_exporter": "python",
   "pygments_lexer": "ipython3",
   "version": "3.11.13"
  }
 },
 "nbformat": 4,
 "nbformat_minor": 4
}
